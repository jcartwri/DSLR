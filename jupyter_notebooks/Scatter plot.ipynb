{
 "cells": [
  {
   "cell_type": "code",
   "execution_count": 1,
   "metadata": {},
   "outputs": [],
   "source": [
    "class Scatter_Plot:\n",
    "    \"\"\"\n",
    "        - Scatter_Plot allow see connect data of two columns. Scatter Plot answer on question:\n",
    "                What are the two features that are similar ?\n",
    "        - Example to run:\n",
    "            >> from describe import Math_calculat\n",
    "            >> from describe import DataSet\n",
    "            >> from scatter_plot import Scatter_plot\n",
    "            >> sp = Scatter_Plot()\n",
    "            >> sp.Plot(6, 8)\n",
    "    \"\"\"\n",
    "    def __init__(self, file='datasets/dataset_train.csv', size=10, legend=1):\n",
    "        self.file_name = file\n",
    "        self.y_col = 1\n",
    "        self.size = size\n",
    "        self.legend = legend\n",
    "        if size < 0:\n",
    "            print(\"Error: bad parameter : size\")\n",
    "            sys.exit()\n",
    "\n",
    "    def Plot(self, name_col1=7, name_col2=8, house_class=[]):\n",
    "        \"\"\"\n",
    "        Plot built scatter Plot two columns.\n",
    "\n",
    "        :param name_col1: first numeric column from dataset. Can accept index (int) and name (str) columns\n",
    "        :param name_col2:   second numeric column from dataset. Can accept index (int) and name (str) columns\n",
    "        :param house_class: It's classes from Hogwarts House, default use all four classes.\n",
    "        :return:\n",
    "        \"\"\"\n",
    "        ds = DataSet(self.file_name)\n",
    "        col_mas_name = [name_col1, name_col2]\n",
    "        for i in range(2):\n",
    "            if (type(col_mas_name[i]) is str):\n",
    "                if col_mas_name[i] in ds.dataset[0]:\n",
    "                    col_mas_name[i] = ds.dataset[0].index(col_mas_name[i])\n",
    "                else:\n",
    "                    print('Error: bad name column')\n",
    "                    return\n",
    "\n",
    "        for i in range(2):\n",
    "            if col_mas_name[i] < 0 or col_mas_name[i] >= len(ds.dataset[0]):\n",
    "                print(\"Error: This isn't column\")\n",
    "                return\n",
    "            if not ds.isNumeric_columns(col_mas_name[i]):\n",
    "                print(\"Error: Input column must is numerics\")\n",
    "                return\n",
    "        if self.size > (len(ds.dataset) - 1):\n",
    "            self.size = len(ds.dataset) - 1\n",
    "        col1 = ds.get_float_col(col_mas_name[0])\n",
    "        col2 = ds.get_float_col(col_mas_name[1])\n",
    "        color = {\n",
    "            'Ravenclaw': 'b',\n",
    "            'Gryffindor': 'r',\n",
    "            'Slytherin': 'g',\n",
    "            'Hufflepuff': 'yellow'\n",
    "        }\n",
    "\n",
    "        feature1 = {}\n",
    "        feature2 = {}\n",
    "        house_class = [i for i in house_class if i in set(ds.get_col(self.y_col))] if house_class else set(ds.get_col(self.y_col))\n",
    "        house_class = set(ds.get_col(self.y_col)) if not house_class else house_class\n",
    "        for i in house_class:\n",
    "            feature1[i] = []\n",
    "            feature2[i] = []\n",
    "        for i in range(1, len(ds.dataset)):\n",
    "            if ds.dataset[i][self.y_col] in house_class:\n",
    "                feature1[ds.dataset[i][self.y_col]].append(col1[i - 1])\n",
    "                feature2[ds.dataset[i][self.y_col]].append(col2[i - 1])\n",
    "        for i in feature1.keys():\n",
    "            plot.scatter(feature1[i][:self.size], feature2[i][:self.size], c=color[i], alpha=0.5, label=i)\n",
    "        if self.legend:\n",
    "            plot.legend(loc='upper right')\n",
    "        plot.ylabel(ds.dataset[0][col_mas_name[1]])\n",
    "        plot.xlabel(ds.dataset[0][col_mas_name[0]])\n",
    "        plot.title('Scatter Plot')\n",
    "        plot.show()\n"
   ]
  },
  {
   "cell_type": "code",
   "execution_count": 2,
   "metadata": {},
   "outputs": [
    {
     "data": {
      "image/png": "[encoded data removed]",
      "text/plain": [
       "<matplotlib.figure.Figure at 0x2903887a160>"
      ]
     },
     "metadata": {
      "needs_background": "light"
     },
     "output_type": "display_data"
    }
   ],
   "source": [
    "sc = Scatter_Plot()\n",
    "sc.Plot()"
   ]
  },
  {
   "cell_type": "code",
   "execution_count": null,
   "metadata": {},
   "outputs": [],
   "source": []
  }
 ],
 "metadata": {
  "kernelspec": {
   "display_name": "Python 3",
   "language": "python",
   "name": "python3"
  },
  "language_info": {
   "codemirror_mode": {
    "name": "ipython",
    "version": 3
   },
   "file_extension": ".py",
   "mimetype": "text/x-python",
   "name": "python",
   "nbconvert_exporter": "python",
   "pygments_lexer": "ipython3",
   "version": "3.6.1"
  }
 },
 "nbformat": 4,
 "nbformat_minor": 4
}

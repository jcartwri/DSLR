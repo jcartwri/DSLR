{
 "cells": [
  {
   "cell_type": "code",
   "execution_count": 1,
   "metadata": {},
   "outputs": [],
   "source": [
    "import csv\n",
    "import math\n",
    "import pandas as pd\n",
    "from describe import Math_calculat\n",
    "from describe import DataSet\n",
    "import numpy as np\n",
    "import sys\n",
    "\n",
    "import matplotlib.pyplot as plot\n",
    "\n",
    "class Histogram:\n",
    "    def __init__(self, file='datasets/dataset_train.csv', y_col=1, granularity=100):\n",
    "        self.file_name = file\n",
    "        self.y_col = y_col\n",
    "        self.granularity = granularity\n",
    "        self.col_nb = None\n",
    "\n",
    "        if type(y_col) != int or y_col < 0 or granularity < 0:\n",
    "            print (\"Error with y_col or granularity\")\n",
    "            sys.exit()\n",
    "    \n",
    "    def Plot(self, col_nb):\n",
    "        ds = DataSet(self.file_name)\n",
    "        if (type(col_nb) is str):\n",
    "            index = -1\n",
    "            if col_nb in ds.dataset[0]:\n",
    "                col_nb = ds.dataset[0].index(col_nb)\n",
    "            else:\n",
    "                print ('Error with name column')\n",
    "                return\n",
    "\n",
    "        if not ds.isNumeric_columns(col_nb):\n",
    "            print (\"Input column must is numerics\")\n",
    "            return\n",
    "        \n",
    "        col = ds.get_float_col(col_nb)\n",
    "        statistic = Math_calculat(col)\n",
    "        bins = np.linspace(statistic.Quartile(0), statistic.Quartile(1), self.granularity)\n",
    "        color = {\n",
    "            'Ravenclaw' : 'b',\n",
    "            'Gryffindor' : 'r',\n",
    "            'Slytherin' : 'g',\n",
    "            'Hufflepuff' : 'yellow'\n",
    "        }\n",
    "        \n",
    "        feature = {}\n",
    "        for i in set(ds.get_col(self.y_col)): feature[i] = []\n",
    "        for i in range(1, len(ds.dataset)):\n",
    "            feature[ds.dataset[i][self.y_col]].append(col[i - 1])\n",
    "        \n",
    "        for i in feature.keys():\n",
    "            plot.hist(feature[i], bins, facecolor=color[i], alpha=0.5, label=i)\n",
    "        plot.legend(loc='upper right')\n",
    "        plot.ylabel('Frequency')\n",
    "        plot.xlabel('Value')\n",
    "        plot.title('Histogram')\n",
    "        plot.show()\n",
    "        "
   ]
  },
  {
   "cell_type": "code",
   "execution_count": 2,
   "metadata": {},
   "outputs": [
    {
     "data": {
      "image/png": "[encoded data removed]",
      "text/plain": [
       "<matplotlib.figure.Figure at 0x22affaced30>"
      ]
     },
     "metadata": {
      "needs_background": "light"
     },
     "output_type": "display_data"
    }
   ],
   "source": [
    "hs = Histogram()\n",
    "hs.Plot(6)"
   ]
  },
  {
   "cell_type": "code",
   "execution_count": null,
   "metadata": {},
   "outputs": [],
   "source": []
  },
  {
   "cell_type": "code",
   "execution_count": 6,
   "metadata": {},
   "outputs": [],
   "source": []
  },
  {
   "cell_type": "code",
   "execution_count": null,
   "metadata": {},
   "outputs": [],
   "source": []
  },
  {
   "cell_type": "code",
   "execution_count": null,
   "metadata": {},
   "outputs": [],
   "source": []
  },
  {
   "cell_type": "code",
   "execution_count": null,
   "metadata": {},
   "outputs": [],
   "source": []
  },
  {
   "cell_type": "code",
   "execution_count": null,
   "metadata": {},
   "outputs": [],
   "source": []
  }
 ],
 "metadata": {
  "kernelspec": {
   "display_name": "Python 3",
   "language": "python",
   "name": "python3"
  },
  "language_info": {
   "codemirror_mode": {
    "name": "ipython",
    "version": 3
   },
   "file_extension": ".py",
   "mimetype": "text/x-python",
   "name": "python",
   "nbconvert_exporter": "python",
   "pygments_lexer": "ipython3",
   "version": "3.6.1"
  }
 },
 "nbformat": 4,
 "nbformat_minor": 4
}
